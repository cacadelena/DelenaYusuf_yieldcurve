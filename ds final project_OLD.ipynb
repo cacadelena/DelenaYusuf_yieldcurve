{
 "cells": [
  {
   "cell_type": "code",
   "execution_count": null,
   "id": "105da905",
   "metadata": {},
   "outputs": [
    {
     "name": "stdout",
     "output_type": "stream",
     "text": [
      "   10y_minus_3m  10y_minus_2y  UNRATE   INDPRO\n",
      "0         -0.29         -1.14     7.6  51.3429\n",
      "1          0.92         -0.39     7.9  50.9463\n",
      "2          2.04          0.51     8.3  50.3546\n",
      "3          2.40          0.43     8.5  49.8086\n",
      "4          1.67          0.02     8.6  48.7877\n",
      "0    1.0\n",
      "1    1.0\n",
      "2    1.0\n",
      "3    0.0\n",
      "4    0.0\n",
      "Name: recession_next_year, dtype: float64\n"
     ]
    }
   ],
   "source": [
    "#1981-2005 \n",
    "\n",
    "import pandas as pd\n",
    "\n",
    "yields = pd.read_csv('U.S Treasury Bonds 1981 - 2005.csv', parse_dates=['observation_date'])\n",
    "recession = pd.read_csv('USREC 1981 - 2005.csv', parse_dates=['observation_date'])\n",
    "unemployment = pd.read_csv('UNRATE 1981 - 2005.csv', parse_dates=['observation_date'])\n",
    "industrial_prod = pd.read_csv('INDPRO 1981-2005.csv', parse_dates=['observation_date'])\n",
    "\n",
    "df = yields.merge(recession, on='observation_date')\\\n",
    "           .merge(unemployment, on='observation_date')\\\n",
    "           .merge(industrial_prod, on='observation_date')\n",
    "\n",
    "# Feature Engineering\n",
    "df['10y_minus_3m'] = df['DGS10'] - df['DGS3MO']\n",
    "df['10y_minus_2y'] = df['DGS10'] - df['DGS2']\n",
    "\n",
    "# Shift the recession indicator by 12 months forward\n",
    "df['recession_next_year'] = df['USREC'].shift(-12)\n",
    "\n",
    "# Drop rows with NaNs created by shifting\n",
    "df = df.dropna()\n",
    "\n",
    "# Features (X) and Target (y)\n",
    "feature_cols = ['10y_minus_3m', '10y_minus_2y', 'UNRATE', 'INDPRO']\n",
    "X = df[feature_cols]\n",
    "y = df['recession_next_year']\n",
    "\n",
    "print(X.head())\n",
    "print(y.head())"
   ]
  },
  {
   "cell_type": "code",
   "execution_count": 36,
   "id": "3d314c1b",
   "metadata": {},
   "outputs": [
    {
     "name": "stdout",
     "output_type": "stream",
     "text": [
      "Confusion Matrix:\n",
      " [[177   0]\n",
      " [  7   4]]\n",
      "\n",
      "Classification Report:\n",
      "               precision    recall  f1-score   support\n",
      "\n",
      "         0.0       0.96      1.00      0.98       177\n",
      "         1.0       1.00      0.36      0.53        11\n",
      "\n",
      "    accuracy                           0.96       188\n",
      "   macro avg       0.98      0.68      0.76       188\n",
      "weighted avg       0.96      0.96      0.95       188\n",
      "\n",
      "\n",
      "First few predictions:\n",
      "\n",
      "   Predicted_Recession  Probability_Recession\n",
      "0                  1.0               0.883267\n",
      "1                  0.0               0.207529\n",
      "2                  0.0               0.006076\n",
      "3                  0.0               0.005590\n",
      "4                  0.0               0.035014\n"
     ]
    }
   ],
   "source": [
    "from sklearn.linear_model import LogisticRegression\n",
    "from sklearn.preprocessing import StandardScaler\n",
    "from sklearn.metrics import classification_report, confusion_matrix\n",
    "\n",
    "# 1. Scaling the features (good practice for regression models)\n",
    "scaler = StandardScaler()\n",
    "X_scaled = scaler.fit_transform(X)\n",
    "\n",
    "# 2. Train the model (using all available data)\n",
    "model = LogisticRegression()\n",
    "model.fit(X_scaled, y)\n",
    "\n",
    "# 3. Make predictions\n",
    "y_pred = model.predict(X_scaled)\n",
    "\n",
    "# 4. Evaluate the model\n",
    "print(\"Confusion Matrix:\\n\", confusion_matrix(y, y_pred))\n",
    "print(\"\\nClassification Report:\\n\", classification_report(y, y_pred))\n",
    "\n",
    "# 5. (Optional) Predict recession probabilities\n",
    "recession_prob = model.predict_proba(X_scaled)[:, 1]\n",
    "\n",
    "# 6. Create a DataFrame to see results\n",
    "prediction_df = df.copy()\n",
    "prediction_df['Predicted_Recession'] = y_pred\n",
    "prediction_df['Probability_Recession'] = recession_prob\n",
    "\n",
    "print(\"\\nFirst few predictions:\\n\")\n",
    "print(prediction_df[['Predicted_Recession', 'Probability_Recession']].head())"
   ]
  },
  {
   "cell_type": "code",
   "execution_count": 37,
   "id": "14b2bc35",
   "metadata": {},
   "outputs": [
    {
     "data": {
      "text/plain": [
       "<function matplotlib.pyplot.show(close=None, block=None)>"
      ]
     },
     "execution_count": 37,
     "metadata": {},
     "output_type": "execute_result"
    },
    {
     "data": {
      "image/png": "[encoded data removed]",
      "text/plain": [
       "<Figure size 640x480 with 2 Axes>"
      ]
     },
     "metadata": {},
     "output_type": "display_data"
    }
   ],
   "source": [
    "from sklearn.metrics import confusion_matrix, ConfusionMatrixDisplay\n",
    "import matplotlib.pyplot as plt\n",
    "\n",
    "# Generate confusion matrix\n",
    "cm = confusion_matrix(y, y_pred)\n",
    "\n",
    "# Display confusion matrix\n",
    "disp = ConfusionMatrixDisplay(confusion_matrix=cm, display_labels=model.classes_)\n",
    "disp.plot(cmap='Greens')\n",
    "plt.title('Confusion Matrix for Recession Prediction')\n",
    "plt.show"
   ]
  },
  {
   "cell_type": "code",
   "execution_count": 38,
   "id": "13160878",
   "metadata": {},
   "outputs": [
    {
     "name": "stdout",
     "output_type": "stream",
     "text": [
      "Index([1, 2, 224, 225, 226, 229, 230], dtype='int64')\n"
     ]
    }
   ],
   "source": [
    "# Assuming your df has a datetime index or a 'date' column\n",
    "# If you have 'observation_date', reset index or keep it\n",
    "\n",
    "# Add predictions and actuals into your main dataframe\n",
    "df['Actual_Recession'] = y\n",
    "df['Predicted_Recession'] = y_pred\n",
    "\n",
    "# Find where the model predicted no recession (0) but there actually was a recession (1)\n",
    "missed_recessions = df[(df['Actual_Recession'] == 1) & (df['Predicted_Recession'] == 0)]\n",
    "\n",
    "# Show the corresponding dates\n",
    "print(missed_recessions.index)  # If your dates are in the index\n",
    "# OR if you have a column for dates:\n",
    "# print(missed_recessions['observation_date'])"
   ]
  },
  {
   "cell_type": "code",
   "execution_count": 39,
   "id": "6430f0c9",
   "metadata": {},
   "outputs": [
    {
     "name": "stdout",
     "output_type": "stream",
     "text": [
      "1     1981-10-01\n",
      "2     1981-11-01\n",
      "224   2000-05-01\n",
      "225   2000-06-01\n",
      "226   2000-07-01\n",
      "229   2000-10-01\n",
      "230   2000-11-01\n",
      "Name: observation_date, dtype: datetime64[ns]\n"
     ]
    }
   ],
   "source": [
    "print(missed_recessions['observation_date'])"
   ]
  },
  {
   "cell_type": "code",
   "execution_count": 70,
   "id": "c0bb2b1a",
   "metadata": {},
   "outputs": [
    {
     "name": "stdout",
     "output_type": "stream",
     "text": [
      "  observation_date  DAAA  DBAA   INDPRO  UNRATE  USREC  DGS3MO  DGS6MO  DGS1  \\\n",
      "0       2005-01-01  5.36  6.02  95.8785     5.3      0    2.37    2.68  2.86   \n",
      "1       2005-02-01  5.20  5.82  96.5709     5.4      0    2.58    2.85  3.03   \n",
      "2       2005-03-01  5.40  6.06  96.4345     5.2      0    2.80    3.09  3.30   \n",
      "3       2005-04-01  5.33  6.05  96.6347     5.2      0    2.84    3.14  3.32   \n",
      "4       2005-05-01  5.15  6.01  96.7251     5.1      0    2.90    3.17  3.33   \n",
      "\n",
      "   DGS2  DGS3  DGS5  DGS7  DGS10  DGS20  DGS30  \n",
      "0  3.22  3.39  3.71  3.97   4.22   4.77   4.77  \n",
      "1  3.38  3.54  3.77  3.97   4.17   4.61   4.56  \n",
      "2  3.73  3.91  4.17  4.33   4.50   4.89   4.77  \n",
      "3  3.65  3.79  4.00  4.16   4.34   4.75   4.65  \n",
      "4  3.64  3.72  3.85  3.94   4.14   4.56   4.49  \n"
     ]
    }
   ],
   "source": [
    "import pandas as pd\n",
    "\n",
    "# Load each dataset\n",
    "daaa_future = pd.read_csv('DAAA.csv', parse_dates=['observation_date'])\n",
    "dbaa_future = pd.read_csv('DBAA.csv', parse_dates=['observation_date'])\n",
    "indpro_future = pd.read_csv('INDPRO.csv', parse_dates=['observation_date'])\n",
    "unrate_future = pd.read_csv('UNRATE.csv', parse_dates=['observation_date'])\n",
    "usrec_future = pd.read_csv('USREC.csv', parse_dates=['observation_date'])\n",
    "ustbond_future = pd.read_csv('USTBONDS 2005 - 2025.csv', parse_dates=['observation_date'])\n",
    "\n",
    "# Merge all on 'observation_date'\n",
    "df_future = daaa_future.merge(dbaa_future, on='observation_date') \\\n",
    "                       .merge(indpro_future, on='observation_date') \\\n",
    "                       .merge(unrate_future, on='observation_date') \\\n",
    "                       .merge(usrec_future, on='observation_date') \\\n",
    "                       .merge(ustbond_future, on='observation_date')\n",
    "\n",
    "# See a preview\n",
    "print(df_future.head())\n"
   ]
  },
  {
   "cell_type": "code",
   "execution_count": 71,
   "id": "84eeb21e",
   "metadata": {},
   "outputs": [],
   "source": [
    "df_future['Yield_Spread'] = df_future['DAAA'] - df_future['DBAA']\n"
   ]
  },
  {
   "cell_type": "code",
   "execution_count": 72,
   "id": "c57faf84",
   "metadata": {},
   "outputs": [],
   "source": [
    "df_future['USTBOND'] = df_future['DGS10']  # Assuming DGS10 is your 10Y treasury yield\n"
   ]
  },
  {
   "cell_type": "code",
   "execution_count": 80,
   "id": "69cbda4d",
   "metadata": {},
   "outputs": [],
   "source": [
    "# First: select the features\n",
    "features = ['DAAA', 'DBAA', 'INDPRO', 'USTBOND', 'UNRATE', 'Yield_Spread']\n",
    "\n",
    "# Select X and y at the same time\n",
    "X_future = df_future[features]\n",
    "y_future = df_future['USREC']\n",
    "\n",
    "# Drop rows with missing values at the SAME time\n",
    "future_data = pd.concat([X_future, y_future], axis=1).dropna()\n",
    "\n",
    "# Separate again after dropping NaNs\n",
    "X_future = future_data[features]\n",
    "y_future = future_data['USREC']\n"
   ]
  },
  {
   "cell_type": "code",
   "execution_count": 82,
   "id": "c3a000cf",
   "metadata": {},
   "outputs": [],
   "source": [
    "scaler = StandardScaler()\n",
    "X_scaled = scaler.fit_transform(X)\n"
   ]
  },
  {
   "cell_type": "code",
   "execution_count": 83,
   "id": "0de8a906",
   "metadata": {},
   "outputs": [],
   "source": [
    "y_future_pred = model.predict(X_scaled)\n",
    "y_future_prob = model.predict_proba(X_scaled)[:, 1]\n"
   ]
  },
  {
   "cell_type": "code",
   "execution_count": 85,
   "id": "a40da1ec",
   "metadata": {},
   "outputs": [
    {
     "name": "stdout",
     "output_type": "stream",
     "text": [
      "(241, 6)\n",
      "(241,)\n"
     ]
    }
   ],
   "source": [
    "print(X_future.shape)\n",
    "print(y_future.shape)\n"
   ]
  },
  {
   "cell_type": "code",
   "execution_count": 86,
   "id": "50fd3050",
   "metadata": {},
   "outputs": [],
   "source": [
    "# Features you are using\n",
    "features = ['DAAA', 'DBAA', 'INDPRO', 'USTBOND', 'UNRATE', 'Yield_Spread']\n",
    "\n",
    "# Select all columns: features + USREC\n",
    "future_data = df_future[features + ['USREC']]\n",
    "\n",
    "# Drop any rows with missing values (NaNs)\n",
    "future_data = future_data.dropna()\n",
    "\n",
    "# Now split\n",
    "X_future = future_data[features]\n",
    "y_future = future_data['USREC']\n"
   ]
  },
  {
   "cell_type": "code",
   "execution_count": 93,
   "id": "cdf38255",
   "metadata": {},
   "outputs": [
    {
     "name": "stdout",
     "output_type": "stream",
     "text": [
      "(241, 6)\n",
      "(241,)\n"
     ]
    }
   ],
   "source": [
    "import numpy as np\n",
    "\n",
    "# Scale\n",
    "scaler = StandardScaler()\n",
    "X_scaled = scaler.fit_transform(X)\n",
    "\n",
    "# Predict\n",
    "y_future_pred = model.predict(X_scaled)\n",
    "y_future_prob = model.predict_proba(X_scaled)[:, 1]\n",
    "\n",
    "# Check new shapes\n",
    "print(X_future.shape)\n",
    "print(y_future.shape)\n",
    "\n",
    "# Flatten y_future if necessary\n",
    "y_future = np.array(y_future).flatten()\n"
   ]
  },
  {
   "cell_type": "code",
   "execution_count": 98,
   "id": "039d2243",
   "metadata": {},
   "outputs": [],
   "source": [
    "import pandas as pd\n",
    "import matplotlib.pyplot as plt\n",
    "import seaborn as sns\n"
   ]
  },
  {
   "cell_type": "code",
   "execution_count": null,
   "id": "7c369e8e",
   "metadata": {},
   "outputs": [
    {
     "name": "stdout",
     "output_type": "stream",
     "text": [
      "  observation_date  DGS3MO  DGS6MO  DGS1  DGS2  DGS3  DGS5  DGS7  DGS10  \\\n",
      "0       2005-01-01    2.37    2.68  2.86  3.22  3.39  3.71  3.97   4.22   \n",
      "1       2005-02-01    2.58    2.85  3.03  3.38  3.54  3.77  3.97   4.17   \n",
      "2       2005-03-01    2.80    3.09  3.30  3.73  3.91  4.17  4.33   4.50   \n",
      "3       2005-04-01    2.84    3.14  3.32  3.65  3.79  4.00  4.16   4.34   \n",
      "4       2005-05-01    2.90    3.17  3.33  3.64  3.72  3.85  3.94   4.14   \n",
      "\n",
      "   DGS20  DGS30  \n",
      "0   4.77   4.77  \n",
      "1   4.61   4.56  \n",
      "2   4.89   4.77  \n",
      "3   4.75   4.65  \n",
      "4   4.56   4.49  \n"
     ]
    }
   ],
   "source": [
    "df = pd.read_csv('USTBONDS 2005 - 2025.CSV')\n",
    "\n",
    "# Now `df` is a DataFrame containing your CSV data\n",
    "print(df.head())"
   ]
  },
  {
   "cell_type": "code",
   "execution_count": null,
   "id": "31118ed0",
   "metadata": {},
   "outputs": [
    {
     "name": "stdout",
     "output_type": "stream",
     "text": [
      "  observation_date  USREC\n",
      "0       2005-01-01      0\n",
      "1       2005-02-01      0\n",
      "2       2005-03-01      0\n",
      "3       2005-04-01      0\n",
      "4       2005-05-01      0\n"
     ]
    }
   ],
   "source": [
    "df = pd.read_csv('USREC.csv')\n",
    "\n",
    "# Now `df` is a DataFrame containing your CSV data\n",
    "print(df.head())"
   ]
  },
  {
   "cell_type": "code",
   "execution_count": 101,
   "id": "9b628999",
   "metadata": {},
   "outputs": [
    {
     "name": "stdout",
     "output_type": "stream",
     "text": [
      "  observation_date  yield_baa  yield_aaa  risk_premium  year\n",
      "0       2005-01-01       6.02       5.36          0.66  2005\n",
      "1       2005-02-01       5.82       5.20          0.62  2005\n",
      "2       2005-03-01       6.06       5.40          0.66  2005\n",
      "3       2005-04-01       6.05       5.33          0.72  2005\n",
      "4       2005-05-01       6.01       5.15          0.86  2005\n",
      "    year  risk_premium\n",
      "0   2005      0.829167\n",
      "1   2006      0.891667\n",
      "2   2007      0.926667\n",
      "3   2008      1.815000\n",
      "4   2009      1.982500\n",
      "5   2010      1.095000\n",
      "6   2011      1.025000\n",
      "7   2012      1.261667\n",
      "8   2013      0.866667\n",
      "9   2014      0.691667\n",
      "10  2015      1.112500\n",
      "11  2016      1.051667\n",
      "12  2017      0.696667\n",
      "13  2018      0.870000\n",
      "14  2019      0.988333\n",
      "15  2020      1.125833\n",
      "16  2021      0.690000\n",
      "17  2022      0.998333\n",
      "18  2023      1.050833\n",
      "19  2024      0.709167\n",
      "20  2025      0.620000\n"
     ]
    }
   ],
   "source": [
    "baa = pd.read_csv('DBAA.csv', parse_dates=['observation_date'])\n",
    "aaa = pd.read_csv('DAAA.csv', parse_dates=['observation_date'])\n",
    "\n",
    "\n",
    "baa = baa.rename(columns={'DBAA': 'yield_baa'})\n",
    "aaa = aaa.rename(columns={'DAAA': 'yield_aaa'})\n",
    "\n",
    "\n",
    "df = pd.merge(baa, aaa, on='observation_date', how='inner')\n",
    "\n",
    "\n",
    "df['risk_premium'] = df['yield_baa'] - df['yield_aaa']\n",
    "\n",
    "\n",
    "df['year'] = df['observation_date'].dt.year\n",
    "annual_prem = df.groupby('year')['risk_premium'].mean().reset_index()\n",
    "\n",
    "print(df.head())        # monthly spread\n",
    "print(annual_prem)      # yearly average spread\n"
   ]
  },
  {
   "cell_type": "code",
   "execution_count": 102,
   "id": "771a74f3",
   "metadata": {},
   "outputs": [
    {
     "data": {
      "image/png": "[encoded data removed]",
      "text/plain": [
       "<Figure size 640x480 with 1 Axes>"
      ]
     },
     "metadata": {},
     "output_type": "display_data"
    },
    {
     "data": {
      "image/png": "[encoded data removed]",
      "text/plain": [
       "<Figure size 640x480 with 1 Axes>"
      ]
     },
     "metadata": {},
     "output_type": "display_data"
    }
   ],
   "source": [
    "fig, ax = plt.subplots()\n",
    "ax.plot(df['observation_date'], df['risk_premium'])\n",
    "ax.set_xlabel('Date')\n",
    "ax.set_ylabel('Monthly Risk Premium (Baa – Aaa)')\n",
    "ax.set_title('Monthly Corporate Bond Risk Premium')\n",
    "plt.tight_layout()\n",
    "\n",
    "# 2) Annual Average Risk Premium\n",
    "fig, ax = plt.subplots()\n",
    "ax.bar(annual_prem['year'].astype(str), annual_prem['risk_premium'])\n",
    "ax.set_xlabel('Year')\n",
    "ax.set_ylabel('Average Annual Risk Premium')\n",
    "ax.set_title('Yearly Average Corporate Bond Risk Premium')\n",
    "plt.tight_layout()\n",
    "\n",
    "plt.show()\n"
   ]
  },
  {
   "cell_type": "code",
   "execution_count": 6,
   "id": "c7b5aa81",
   "metadata": {},
   "outputs": [
    {
     "data": {
      "image/png": "[encoded data removed]",
      "text/plain": [
       "<Figure size 1000x600 with 1 Axes>"
      ]
     },
     "metadata": {},
     "output_type": "display_data"
    }
   ],
   "source": [
    "import matplotlib.pyplot as plt\n",
    "from matplotlib.ticker import MaxNLocator\n",
    "\n",
    "years = annual_prem['year']\n",
    "premiums = annual_prem['risk_premium']\n",
    "\n",
    "fig, ax = plt.subplots(figsize=(10, 6))\n",
    "\n",
    "# Bar chart\n",
    "ax.bar(years, premiums, edgecolor='black')\n",
    "\n",
    "# Labels and title\n",
    "ax.set_xlabel('Year')\n",
    "ax.set_ylabel('Average Annual Risk Premium')\n",
    "ax.set_title('Yearly Average Corporate Bond Risk Premium')\n",
    "\n",
    "# Force integer ticks and reduce the number of ticks\n",
    "ax.xaxis.set_major_locator(MaxNLocator(integer=True, nbins=10))\n",
    "\n",
    "# Rotate tick labels for clarity\n",
    "plt.xticks(rotation=45, ha='right')\n",
    "\n",
    "# Add horizontal grid lines\n",
    "ax.yaxis.grid(True, linestyle='--', alpha=0.7)\n",
    "\n",
    "plt.tight_layout()\n",
    "plt.show()\n"
   ]
  },
  {
   "cell_type": "code",
   "execution_count": 105,
   "id": "7892296d",
   "metadata": {},
   "outputs": [
    {
     "name": "stdout",
     "output_type": "stream",
     "text": [
      "   10y_minus_3m  10y_minus_2y  UNRATE   INDPRO\n",
      "0          1.85          1.00     5.3  95.8785\n",
      "1          1.59          0.79     5.4  96.5709\n",
      "2          1.70          0.77     5.2  96.4345\n",
      "3          1.50          0.69     5.2  96.6347\n",
      "4          1.24          0.50     5.1  96.7251\n",
      "0    0.0\n",
      "1    0.0\n",
      "2    0.0\n",
      "3    0.0\n",
      "4    0.0\n",
      "Name: recession_next_year, dtype: float64\n"
     ]
    }
   ],
   "source": [
    "import pandas as pd\n",
    "\n",
    "# Load all your datasets\n",
    "yields = pd.read_csv('USTBONDS 2005 - 2025.csv', parse_dates=['observation_date'])\n",
    "recession = pd.read_csv('USREC.csv', parse_dates=['observation_date'])\n",
    "unemployment = pd.read_csv('UNRATE.csv', parse_dates=['observation_date'])\n",
    "industrial_prod = pd.read_csv('INDPRO.csv', parse_dates=['observation_date'])\n",
    "\n",
    "# Merge everything by observation_date\n",
    "df = yields.merge(recession, on='observation_date')\\\n",
    "           .merge(unemployment, on='observation_date')\\\n",
    "           .merge(industrial_prod, on='observation_date')\n",
    "\n",
    "# Feature Engineering\n",
    "df['10y_minus_3m'] = df['DGS10'] - df['DGS3MO']\n",
    "df['10y_minus_2y'] = df['DGS10'] - df['DGS2']\n",
    "\n",
    "# Shift the recession indicator by 12 months forward\n",
    "df['recession_next_year'] = df['USREC'].shift(-12)\n",
    "\n",
    "# Drop rows with NaNs created by shifting\n",
    "df = df.dropna()\n",
    "\n",
    "# Features (X) and Target (y)\n",
    "feature_cols = ['10y_minus_3m', '10y_minus_2y', 'UNRATE', 'INDPRO']\n",
    "X = df[feature_cols]\n",
    "y = df['recession_next_year']\n",
    "\n",
    "print(X.head())\n",
    "print(y.head())"
   ]
  },
  {
   "cell_type": "code",
   "execution_count": 8,
   "id": "b7d30ece",
   "metadata": {},
   "outputs": [
    {
     "name": "stdout",
     "output_type": "stream",
     "text": [
      " O volume na unidade G � Google Drive\n",
      " O N�mero de S�rie do Volume � 1983-1116\n",
      "\n",
      " Pasta de g:\\Meu Drive\\DS 325\\DelenaYusuf_yieldcurve\n",
      "\n",
      "04/28/2025  03:05 PM    <DIR>          .\n",
      "04/28/2025  03:12 PM    <DIR>          ..\n",
      "04/28/2025  03:12 PM    <DIR>          .git\n",
      "04/17/2025  05:09 PM             3,878 DAAA.csv\n",
      "04/17/2025  05:07 PM             3,878 DBAA.csv\n",
      "04/17/2025  04:19 PM            15,020 DS 325 Final Project.csv\n",
      "04/17/2025  04:19 PM            28,902 DS 325 Final Project.xlsx\n",
      "04/28/2025  03:03 PM           224,999 ds final project.ipynb\n",
      "04/28/2025  03:02 PM             4,964 INDPRO.csv\n",
      "04/28/2025  03:02 PM             3,889 UNRATE.csv\n",
      "04/17/2025  04:43 PM             3,401 USREC.csv\n",
      "               8 arquivo(s)        288,931 bytes\n",
      "               3 pasta(s)   15,266,615,296 bytes dispon�veis\n"
     ]
    }
   ],
   "source": [
    "ls"
   ]
  },
  {
   "cell_type": "code",
   "execution_count": 106,
   "id": "633cca68",
   "metadata": {},
   "outputs": [
    {
     "name": "stdout",
     "output_type": "stream",
     "text": [
      "Model: Logistic Regression\n",
      "              precision    recall  f1-score   support\n",
      "\n",
      "         0.0       0.96      1.00      0.98        44\n",
      "         1.0       0.00      0.00      0.00         2\n",
      "\n",
      "    accuracy                           0.96        46\n",
      "   macro avg       0.48      0.50      0.49        46\n",
      "weighted avg       0.91      0.96      0.94        46\n",
      "\n"
     ]
    },
    {
     "name": "stderr",
     "output_type": "stream",
     "text": [
      "c:\\Users\\delen\\anaconda3\\Lib\\site-packages\\sklearn\\metrics\\_classification.py:1531: UndefinedMetricWarning: Precision is ill-defined and being set to 0.0 in labels with no predicted samples. Use `zero_division` parameter to control this behavior.\n",
      "  _warn_prf(average, modifier, f\"{metric.capitalize()} is\", len(result))\n",
      "c:\\Users\\delen\\anaconda3\\Lib\\site-packages\\sklearn\\metrics\\_classification.py:1531: UndefinedMetricWarning: Precision is ill-defined and being set to 0.0 in labels with no predicted samples. Use `zero_division` parameter to control this behavior.\n",
      "  _warn_prf(average, modifier, f\"{metric.capitalize()} is\", len(result))\n",
      "c:\\Users\\delen\\anaconda3\\Lib\\site-packages\\sklearn\\metrics\\_classification.py:1531: UndefinedMetricWarning: Precision is ill-defined and being set to 0.0 in labels with no predicted samples. Use `zero_division` parameter to control this behavior.\n",
      "  _warn_prf(average, modifier, f\"{metric.capitalize()} is\", len(result))\n"
     ]
    },
    {
     "data": {
      "image/png": "[encoded data removed]",
      "text/plain": [
       "<Figure size 640x480 with 2 Axes>"
      ]
     },
     "metadata": {},
     "output_type": "display_data"
    },
    {
     "name": "stdout",
     "output_type": "stream",
     "text": [
      "Model: Decision Tree\n",
      "              precision    recall  f1-score   support\n",
      "\n",
      "         0.0       1.00      0.93      0.96        44\n",
      "         1.0       0.40      1.00      0.57         2\n",
      "\n",
      "    accuracy                           0.93        46\n",
      "   macro avg       0.70      0.97      0.77        46\n",
      "weighted avg       0.97      0.93      0.95        46\n",
      "\n"
     ]
    },
    {
     "data": {
      "image/png": "[encoded data removed]",
      "text/plain": [
       "<Figure size 640x480 with 2 Axes>"
      ]
     },
     "metadata": {},
     "output_type": "display_data"
    },
    {
     "name": "stdout",
     "output_type": "stream",
     "text": [
      "Model: Random Forest\n",
      "              precision    recall  f1-score   support\n",
      "\n",
      "         0.0       1.00      0.95      0.98        44\n",
      "         1.0       0.50      1.00      0.67         2\n",
      "\n",
      "    accuracy                           0.96        46\n",
      "   macro avg       0.75      0.98      0.82        46\n",
      "weighted avg       0.98      0.96      0.96        46\n",
      "\n"
     ]
    },
    {
     "data": {
      "image/png": "[encoded data removed]",
      "text/plain": [
       "<Figure size 640x480 with 2 Axes>"
      ]
     },
     "metadata": {},
     "output_type": "display_data"
    }
   ],
   "source": [
    "from sklearn.model_selection import train_test_split\n",
    "from sklearn.linear_model import LogisticRegression\n",
    "from sklearn.tree import DecisionTreeClassifier\n",
    "from sklearn.ensemble import RandomForestClassifier\n",
    "from sklearn.metrics import confusion_matrix, classification_report\n",
    "import matplotlib.pyplot as plt\n",
    "import seaborn as sns\n",
    "\n",
    "# Train/Test Split\n",
    "X_train, X_test, y_train, y_test = train_test_split(X, y, test_size=0.2, random_state=42)\n",
    "\n",
    "# Initialize models\n",
    "models = {\n",
    "    'Logistic Regression': LogisticRegression(max_iter=1000),\n",
    "    'Decision Tree': DecisionTreeClassifier(),\n",
    "    'Random Forest': RandomForestClassifier()\n",
    "}\n",
    "\n",
    "for name, model in models.items():\n",
    "    model.fit(X_train, y_train)\n",
    "    y_pred = model.predict(X_test)\n",
    "\n",
    "    # Print Evaluation\n",
    "    print(f\"Model: {name}\")\n",
    "    print(classification_report(y_test, y_pred))\n",
    "\n",
    "    # Plot Confusion Matrix\n",
    "    cm = confusion_matrix(y_test, y_pred)\n",
    "    sns.heatmap(cm, annot=True, fmt='d', cmap='Blues')\n",
    "    plt.title(f'{name} Confusion Matrix')\n",
    "    plt.xlabel('Predicted')\n",
    "    plt.ylabel('Actual')\n",
    "    plt.show()"
   ]
  },
  {
   "cell_type": "code",
   "execution_count": 10,
   "id": "1ddfa942",
   "metadata": {},
   "outputs": [
    {
     "data": {
      "text/plain": [
       "{'Logistic Regression': LogisticRegression(max_iter=1000),\n",
       " 'Decision Tree': DecisionTreeClassifier(),\n",
       " 'Random Forest': RandomForestClassifier()}"
      ]
     },
     "execution_count": 10,
     "metadata": {},
     "output_type": "execute_result"
    }
   ],
   "source": [
    "models"
   ]
  },
  {
   "cell_type": "code",
   "execution_count": 20,
   "id": "87c1cb50",
   "metadata": {},
   "outputs": [],
   "source": [
    "models['Decision Tree'].feature_importances_\n",
    "feature_names = models['Decision Tree'].feature_names_in_\n"
   ]
  },
  {
   "cell_type": "code",
   "execution_count": 21,
   "id": "c9fa9f6a",
   "metadata": {},
   "outputs": [
    {
     "data": {
      "text/plain": [
       "{'criterion': 'gini',\n",
       " 'splitter': 'best',\n",
       " 'max_depth': None,\n",
       " 'min_samples_split': 2,\n",
       " 'min_samples_leaf': 1,\n",
       " 'min_weight_fraction_leaf': 0.0,\n",
       " 'max_features': None,\n",
       " 'max_leaf_nodes': None,\n",
       " 'random_state': None,\n",
       " 'min_impurity_decrease': 0.0,\n",
       " 'class_weight': None,\n",
       " 'ccp_alpha': 0.0,\n",
       " 'monotonic_cst': None,\n",
       " 'feature_names_in_': array(['10y_minus_3m', '10y_minus_2y', 'UNRATE', 'INDPRO'], dtype=object),\n",
       " 'n_features_in_': 4,\n",
       " 'n_outputs_': 1,\n",
       " 'classes_': array([0., 1.]),\n",
       " 'n_classes_': 2,\n",
       " 'max_features_': 4,\n",
       " 'tree_': <sklearn.tree._tree.Tree at 0x232087230c0>}"
      ]
     },
     "execution_count": 21,
     "metadata": {},
     "output_type": "execute_result"
    },
    {
     "data": {
      "image/png": "[encoded data removed]",
      "text/plain": [
       "<Figure size 1200x800 with 1 Axes>"
      ]
     },
     "metadata": {},
     "output_type": "display_data"
    }
   ],
   "source": [
    "\n",
    "from sklearn.tree import plot_tree\n",
    "plt.figure(figsize=(12, 8))\n",
    "plot_tree(models['Decision Tree'], feature_names=feature_names, filled=True, rounded=True)\n",
    "plt.title('Decision Tree Classifier') \n",
    "models['Decision Tree'].__dict__"
   ]
  },
  {
   "cell_type": "code",
   "execution_count": 22,
   "id": "6cf862fd",
   "metadata": {},
   "outputs": [
    {
     "data": {
      "text/plain": [
       "array([0.23010535, 0.18206775, 0.29897678, 0.28885011])"
      ]
     },
     "execution_count": 22,
     "metadata": {},
     "output_type": "execute_result"
    }
   ],
   "source": [
    "models['Random Forest'].feature_importances_"
   ]
  },
  {
   "cell_type": "code",
   "execution_count": 23,
   "id": "d4da92b9",
   "metadata": {},
   "outputs": [
    {
     "data": {
      "text/plain": [
       "array([[-0.57122976,  0.92240038, -0.09912374,  0.34191582]])"
      ]
     },
     "execution_count": 23,
     "metadata": {},
     "output_type": "execute_result"
    }
   ],
   "source": [
    "models['Logistic Regression'].coef_"
   ]
  },
  {
   "cell_type": "code",
   "execution_count": 24,
   "id": "8940a4d3",
   "metadata": {},
   "outputs": [
    {
     "data": {
      "text/plain": [
       "array([0., 0., 0., 0., 0., 0., 0., 0., 0., 1., 0., 0., 0., 0., 0., 0., 0.,\n",
       "       1., 0., 0., 0., 0., 0., 0., 1., 0., 0., 0., 0., 0., 0., 0., 0., 0.,\n",
       "       0., 0., 0., 0., 0., 0., 0., 0., 0., 0., 0., 0.])"
      ]
     },
     "execution_count": 24,
     "metadata": {},
     "output_type": "execute_result"
    }
   ],
   "source": [
    "y_pred"
   ]
  },
  {
   "cell_type": "code",
   "execution_count": 26,
   "id": "dab3e8bd",
   "metadata": {},
   "outputs": [
    {
     "data": {
      "application/vnd.microsoft.datawrangler.viewer.v0+json": {
       "columns": [
        {
         "name": "index",
         "rawType": "int64",
         "type": "integer"
        },
        {
         "name": "10y_minus_3m",
         "rawType": "float64",
         "type": "float"
        },
        {
         "name": "10y_minus_2y",
         "rawType": "float64",
         "type": "float"
        },
        {
         "name": "UNRATE",
         "rawType": "float64",
         "type": "float"
        },
        {
         "name": "INDPRO",
         "rawType": "float64",
         "type": "float"
        }
       ],
       "conversionMethod": "pd.DataFrame",
       "ref": "792cdd11-0df6-4944-9a8d-c1331cf76e7b",
       "rows": [
        [
         "150",
         "1.2299999999999998",
         "0.9499999999999997",
         "4.3",
         "100.0865"
        ],
        [
         "55",
         "3.42",
         "2.4699999999999998",
         "9.6",
         "86.6393"
        ],
        [
         "165",
         "0.8599999999999999",
         "0.29000000000000004",
         "3.8",
         "103.9297"
        ],
        [
         "69",
         "2.41",
         "2.16",
         "9.4",
         "92.6033"
        ],
        [
         "167",
         "0.41999999999999993",
         "0.1499999999999999",
         "3.9",
         "104.0451"
        ],
        [
         "109",
         "2.66",
         "2.38",
         "6.7",
         "100.7471"
        ],
        [
         "124",
         "2.18",
         "1.5900000000000003",
         "5.6",
         "100.7675"
        ],
        [
         "79",
         "2.28",
         "2.07",
         "9.0",
         "95.0974"
        ],
        [
         "86",
         "2.09",
         "1.8299999999999998",
         "8.2",
         "96.5609"
        ],
        [
         "95",
         "1.65",
         "1.46",
         "7.9",
         "98.1884"
        ],
        [
         "212",
         "0.2999999999999998",
         "-0.33999999999999986",
         "3.5",
         "103.5326"
        ],
        [
         "117",
         "2.28",
         "1.8499999999999999",
         "5.7",
         "102.9611"
        ],
        [
         "38",
         "2.2299999999999995",
         "1.8899999999999997",
         "5.1",
         "101.4508"
        ],
        [
         "24",
         "-0.35000000000000053",
         "-0.1200000000000001",
         "4.6",
         "99.7546"
        ],
        [
         "67",
         "2.54",
         "2.18",
         "9.5",
         "92.5936"
        ],
        [
         "185",
         "0.57",
         "0.54",
         "11.0",
         "91.6745"
        ],
        [
         "197",
         "1.48",
         "1.32",
         "5.9",
         "99.6483"
        ],
        [
         "10",
         "0.5699999999999998",
         "0.1200000000000001",
         "5.0",
         "97.5016"
        ],
        [
         "120",
         "1.8499999999999999",
         "1.3299999999999998",
         "5.7",
         "102.7923"
        ],
        [
         "29",
         "0.35999999999999943",
         "0.11999999999999922",
         "4.6",
         "101.6547"
        ],
        [
         "153",
         "1.2699999999999998",
         "0.8099999999999998",
         "4.2",
         "100.9893"
        ],
        [
         "68",
         "2.5",
         "2.17",
         "9.5",
         "92.8533"
        ],
        [
         "75",
         "3.4",
         "2.73",
         "9.1",
         "93.6571"
        ],
        [
         "5",
         "0.96",
         "0.3599999999999999",
         "5.0",
         "97.1483"
        ],
        [
         "56",
         "3.28",
         "2.44",
         "9.8",
         "87.3821"
        ],
        [
         "114",
         "2.5100000000000002",
         "2.0300000000000002",
         "6.2",
         "102.7954"
        ],
        [
         "139",
         "1.26",
         "0.8200000000000001",
         "4.9",
         "98.7427"
        ],
        [
         "186",
         "0.49",
         "0.47",
         "10.2",
         "95.0037"
        ],
        [
         "65",
         "3.08",
         "2.4800000000000004",
         "9.4",
         "91.9033"
        ],
        [
         "142",
         "1.6900000000000002",
         "1.1600000000000001",
         "4.7",
         "98.3443"
        ],
        [
         "193",
         "1.22",
         "1.1400000000000001",
         "6.2",
         "95.5072"
        ],
        [
         "136",
         "1.53",
         "0.9900000000000001",
         "4.8",
         "98.2549"
        ],
        [
         "31",
         "0.34999999999999964",
         "0.3600000000000003",
         "4.6",
         "101.6943"
        ],
        [
         "12",
         "0.08000000000000007",
         "0.019999999999999574",
         "4.7",
         "98.127"
        ],
        [
         "35",
         "1.0299999999999998",
         "0.9799999999999995",
         "5.0",
         "102.2764"
        ],
        [
         "28",
         "-0.1200000000000001",
         "-0.019999999999999574",
         "4.4",
         "101.6269"
        ],
        [
         "42",
         "2.3499999999999996",
         "1.44",
         "5.8",
         "99.4194"
        ],
        [
         "226",
         "-1.0199999999999996",
         "-0.3799999999999999",
         "3.7",
         "102.8868"
        ],
        [
         "115",
         "2.39",
         "1.95",
         "6.1",
         "102.6322"
        ],
        [
         "155",
         "1.0599999999999998",
         "0.5599999999999998",
         "4.1",
         "101.4871"
        ],
        [
         "51",
         "2.77",
         "2.0",
         "9.0",
         "85.7903"
        ],
        [
         "132",
         "1.8299999999999998",
         "1.19",
         "4.8",
         "99.4391"
        ],
        [
         "182",
         "0.5700000000000001",
         "0.42",
         "4.4",
         "97.606"
        ],
        [
         "76",
         "3.13",
         "2.61",
         "9.0",
         "93.7723"
        ],
        [
         "41",
         "2.21",
         "1.3299999999999996",
         "5.6",
         "99.8728"
        ],
        [
         "97",
         "1.88",
         "1.71",
         "7.7",
         "98.6434"
        ],
        [
         "140",
         "1.3399999999999999",
         "0.8599999999999999",
         "5.0",
         "98.6552"
        ],
        [
         "78",
         "2.96",
         "2.59",
         "9.0",
         "94.4958"
        ],
        [
         "135",
         "1.58",
         "1.04",
         "5.1",
         "98.4775"
        ],
        [
         "26",
         "-0.5200000000000005",
         "-0.010000000000000675",
         "4.4",
         "100.8952"
        ]
       ],
       "shape": {
        "columns": 4,
        "rows": 183
       }
      },
      "text/html": [
       "<div>\n",
       "<style scoped>\n",
       "    .dataframe tbody tr th:only-of-type {\n",
       "        vertical-align: middle;\n",
       "    }\n",
       "\n",
       "    .dataframe tbody tr th {\n",
       "        vertical-align: top;\n",
       "    }\n",
       "\n",
       "    .dataframe thead th {\n",
       "        text-align: right;\n",
       "    }\n",
       "</style>\n",
       "<table border=\"1\" class=\"dataframe\">\n",
       "  <thead>\n",
       "    <tr style=\"text-align: right;\">\n",
       "      <th></th>\n",
       "      <th>10y_minus_3m</th>\n",
       "      <th>10y_minus_2y</th>\n",
       "      <th>UNRATE</th>\n",
       "      <th>INDPRO</th>\n",
       "    </tr>\n",
       "  </thead>\n",
       "  <tbody>\n",
       "    <tr>\n",
       "      <th>150</th>\n",
       "      <td>1.23</td>\n",
       "      <td>0.95</td>\n",
       "      <td>4.3</td>\n",
       "      <td>100.0865</td>\n",
       "    </tr>\n",
       "    <tr>\n",
       "      <th>55</th>\n",
       "      <td>3.42</td>\n",
       "      <td>2.47</td>\n",
       "      <td>9.6</td>\n",
       "      <td>86.6393</td>\n",
       "    </tr>\n",
       "    <tr>\n",
       "      <th>165</th>\n",
       "      <td>0.86</td>\n",
       "      <td>0.29</td>\n",
       "      <td>3.8</td>\n",
       "      <td>103.9297</td>\n",
       "    </tr>\n",
       "    <tr>\n",
       "      <th>69</th>\n",
       "      <td>2.41</td>\n",
       "      <td>2.16</td>\n",
       "      <td>9.4</td>\n",
       "      <td>92.6033</td>\n",
       "    </tr>\n",
       "    <tr>\n",
       "      <th>167</th>\n",
       "      <td>0.42</td>\n",
       "      <td>0.15</td>\n",
       "      <td>3.9</td>\n",
       "      <td>104.0451</td>\n",
       "    </tr>\n",
       "    <tr>\n",
       "      <th>...</th>\n",
       "      <td>...</td>\n",
       "      <td>...</td>\n",
       "      <td>...</td>\n",
       "      <td>...</td>\n",
       "    </tr>\n",
       "    <tr>\n",
       "      <th>106</th>\n",
       "      <td>2.65</td>\n",
       "      <td>2.42</td>\n",
       "      <td>6.9</td>\n",
       "      <td>100.1582</td>\n",
       "    </tr>\n",
       "    <tr>\n",
       "      <th>14</th>\n",
       "      <td>0.09</td>\n",
       "      <td>-0.01</td>\n",
       "      <td>4.7</td>\n",
       "      <td>98.3913</td>\n",
       "    </tr>\n",
       "    <tr>\n",
       "      <th>92</th>\n",
       "      <td>1.61</td>\n",
       "      <td>1.46</td>\n",
       "      <td>7.8</td>\n",
       "      <td>97.2217</td>\n",
       "    </tr>\n",
       "    <tr>\n",
       "      <th>179</th>\n",
       "      <td>0.29</td>\n",
       "      <td>0.25</td>\n",
       "      <td>3.6</td>\n",
       "      <td>101.9421</td>\n",
       "    </tr>\n",
       "    <tr>\n",
       "      <th>102</th>\n",
       "      <td>2.54</td>\n",
       "      <td>2.24</td>\n",
       "      <td>7.3</td>\n",
       "      <td>98.8987</td>\n",
       "    </tr>\n",
       "  </tbody>\n",
       "</table>\n",
       "<p>183 rows × 4 columns</p>\n",
       "</div>"
      ],
      "text/plain": [
       "     10y_minus_3m  10y_minus_2y  UNRATE    INDPRO\n",
       "150          1.23          0.95     4.3  100.0865\n",
       "55           3.42          2.47     9.6   86.6393\n",
       "165          0.86          0.29     3.8  103.9297\n",
       "69           2.41          2.16     9.4   92.6033\n",
       "167          0.42          0.15     3.9  104.0451\n",
       "..            ...           ...     ...       ...\n",
       "106          2.65          2.42     6.9  100.1582\n",
       "14           0.09         -0.01     4.7   98.3913\n",
       "92           1.61          1.46     7.8   97.2217\n",
       "179          0.29          0.25     3.6  101.9421\n",
       "102          2.54          2.24     7.3   98.8987\n",
       "\n",
       "[183 rows x 4 columns]"
      ]
     },
     "execution_count": 26,
     "metadata": {},
     "output_type": "execute_result"
    }
   ],
   "source": [
    "X_train"
   ]
  },
  {
   "cell_type": "code",
   "execution_count": 27,
   "id": "f7d5e10d",
   "metadata": {},
   "outputs": [
    {
     "data": {
      "application/vnd.microsoft.datawrangler.viewer.v0+json": {
       "columns": [
        {
         "name": "index",
         "rawType": "int64",
         "type": "integer"
        },
        {
         "name": "10y_minus_3m",
         "rawType": "float64",
         "type": "float"
        },
        {
         "name": "10y_minus_2y",
         "rawType": "float64",
         "type": "float"
        },
        {
         "name": "UNRATE",
         "rawType": "float64",
         "type": "float"
        },
        {
         "name": "INDPRO",
         "rawType": "float64",
         "type": "float"
        }
       ],
       "conversionMethod": "pd.DataFrame",
       "ref": "1370740f-a99e-4055-bf00-6689fc14dfd9",
       "rows": [
        [
         "0",
         "1.8499999999999996",
         "0.9999999999999996",
         "5.3",
         "95.8785"
        ],
        [
         "1",
         "1.5899999999999999",
         "0.79",
         "5.4",
         "96.5709"
        ],
        [
         "2",
         "1.7000000000000002",
         "0.77",
         "5.2",
         "96.4345"
        ],
        [
         "3",
         "1.5",
         "0.69",
         "5.2",
         "96.6347"
        ],
        [
         "4",
         "1.2399999999999998",
         "0.49999999999999956",
         "5.1",
         "96.7251"
        ],
        [
         "5",
         "0.96",
         "0.3599999999999999",
         "5.0",
         "97.1483"
        ],
        [
         "6",
         "0.8899999999999997",
         "0.3099999999999996",
         "5.0",
         "96.8397"
        ],
        [
         "7",
         "0.7399999999999998",
         "0.21999999999999975",
         "4.9",
         "97.1584"
        ],
        [
         "8",
         "0.71",
         "0.25",
         "5.0",
         "95.2764"
        ],
        [
         "9",
         "0.6699999999999999",
         "0.1900000000000004",
         "5.0",
         "96.4411"
        ],
        [
         "10",
         "0.5699999999999998",
         "0.1200000000000001",
         "5.0",
         "97.5016"
        ],
        [
         "11",
         "0.49999999999999956",
         "0.0699999999999994",
         "4.9",
         "97.9723"
        ],
        [
         "12",
         "0.08000000000000007",
         "0.019999999999999574",
         "4.7",
         "98.127"
        ],
        [
         "13",
         "0.03000000000000025",
         "-0.09999999999999964",
         "4.8",
         "98.1687"
        ],
        [
         "14",
         "0.08999999999999986",
         "-0.010000000000000675",
         "4.7",
         "98.3913"
        ],
        [
         "15",
         "0.27000000000000046",
         "0.10000000000000053",
         "4.7",
         "98.6826"
        ],
        [
         "16",
         "0.27000000000000046",
         "0.14000000000000057",
         "4.6",
         "98.7074"
        ],
        [
         "17",
         "0.1900000000000004",
         "-0.009999999999999787",
         "4.6",
         "99.0398"
        ],
        [
         "18",
         "0.009999999999999787",
         "-0.03000000000000025",
         "4.7",
         "98.9751"
        ],
        [
         "19",
         "-0.20999999999999996",
         "-0.020000000000000462",
         "4.7",
         "99.4047"
        ],
        [
         "20",
         "-0.20999999999999996",
         "-0.04999999999999982",
         "4.5",
         "99.2246"
        ],
        [
         "21",
         "-0.3199999999999994",
         "-0.0699999999999994",
         "4.4",
         "99.1229"
        ],
        [
         "22",
         "-0.47000000000000064",
         "-0.14000000000000057",
         "4.5",
         "99.0963"
        ],
        [
         "23",
         "-0.41000000000000014",
         "-0.11000000000000032",
         "4.4",
         "100.1125"
        ],
        [
         "24",
         "-0.35000000000000053",
         "-0.1200000000000001",
         "4.6",
         "99.7546"
        ],
        [
         "25",
         "-0.4400000000000004",
         "-0.1299999999999999",
         "4.5",
         "100.7166"
        ],
        [
         "26",
         "-0.5200000000000005",
         "-0.010000000000000675",
         "4.4",
         "100.8952"
        ],
        [
         "27",
         "-0.3199999999999994",
         "0.020000000000000462",
         "4.5",
         "101.5723"
        ],
        [
         "28",
         "-0.1200000000000001",
         "-0.019999999999999574",
         "4.4",
         "101.6269"
        ],
        [
         "29",
         "0.35999999999999943",
         "0.11999999999999922",
         "4.6",
         "101.6547"
        ],
        [
         "30",
         "0.040000000000000036",
         "0.17999999999999972",
         "4.7",
         "101.4953"
        ],
        [
         "31",
         "0.34999999999999964",
         "0.3600000000000003",
         "4.6",
         "101.6943"
        ],
        [
         "32",
         "0.5299999999999994",
         "0.5099999999999998",
         "4.7",
         "101.9428"
        ],
        [
         "33",
         "0.5300000000000002",
         "0.56",
         "4.7",
         "101.6446"
        ],
        [
         "34",
         "0.8000000000000003",
         "0.8100000000000005",
         "4.7",
         "102.2167"
        ],
        [
         "35",
         "1.0299999999999998",
         "0.9799999999999995",
         "5.0",
         "102.2764"
        ],
        [
         "36",
         "0.9200000000000004",
         "1.2600000000000002",
         "5.0",
         "102.1493"
        ],
        [
         "37",
         "1.5700000000000003",
         "1.7700000000000002",
         "4.9",
         "101.7756"
        ],
        [
         "38",
         "2.2299999999999995",
         "1.8899999999999997",
         "5.1",
         "101.4508"
        ],
        [
         "39",
         "2.37",
         "1.6300000000000003",
         "5.0",
         "100.7554"
        ],
        [
         "40",
         "2.12",
         "1.4299999999999997",
         "5.4",
         "100.1336"
        ],
        [
         "41",
         "2.21",
         "1.3299999999999996",
         "5.6",
         "99.8728"
        ],
        [
         "42",
         "2.3499999999999996",
         "1.44",
         "5.8",
         "99.4194"
        ],
        [
         "43",
         "2.14",
         "1.4700000000000002",
         "6.1",
         "97.8491"
        ],
        [
         "44",
         "2.54",
         "1.6099999999999999",
         "6.1",
         "93.5576"
        ],
        [
         "45",
         "3.12",
         "2.2",
         "6.5",
         "94.4985"
        ],
        [
         "46",
         "3.34",
         "2.32",
         "6.8",
         "93.2617"
        ],
        [
         "47",
         "2.39",
         "1.6",
         "7.3",
         "90.6266"
        ],
        [
         "48",
         "2.39",
         "1.71",
         "7.8",
         "88.3712"
        ],
        [
         "49",
         "2.5700000000000003",
         "1.8900000000000001",
         "8.3",
         "87.843"
        ]
       ],
       "shape": {
        "columns": 4,
        "rows": 229
       }
      },
      "text/html": [
       "<div>\n",
       "<style scoped>\n",
       "    .dataframe tbody tr th:only-of-type {\n",
       "        vertical-align: middle;\n",
       "    }\n",
       "\n",
       "    .dataframe tbody tr th {\n",
       "        vertical-align: top;\n",
       "    }\n",
       "\n",
       "    .dataframe thead th {\n",
       "        text-align: right;\n",
       "    }\n",
       "</style>\n",
       "<table border=\"1\" class=\"dataframe\">\n",
       "  <thead>\n",
       "    <tr style=\"text-align: right;\">\n",
       "      <th></th>\n",
       "      <th>10y_minus_3m</th>\n",
       "      <th>10y_minus_2y</th>\n",
       "      <th>UNRATE</th>\n",
       "      <th>INDPRO</th>\n",
       "    </tr>\n",
       "  </thead>\n",
       "  <tbody>\n",
       "    <tr>\n",
       "      <th>0</th>\n",
       "      <td>1.85</td>\n",
       "      <td>1.00</td>\n",
       "      <td>5.3</td>\n",
       "      <td>95.8785</td>\n",
       "    </tr>\n",
       "    <tr>\n",
       "      <th>1</th>\n",
       "      <td>1.59</td>\n",
       "      <td>0.79</td>\n",
       "      <td>5.4</td>\n",
       "      <td>96.5709</td>\n",
       "    </tr>\n",
       "    <tr>\n",
       "      <th>2</th>\n",
       "      <td>1.70</td>\n",
       "      <td>0.77</td>\n",
       "      <td>5.2</td>\n",
       "      <td>96.4345</td>\n",
       "    </tr>\n",
       "    <tr>\n",
       "      <th>3</th>\n",
       "      <td>1.50</td>\n",
       "      <td>0.69</td>\n",
       "      <td>5.2</td>\n",
       "      <td>96.6347</td>\n",
       "    </tr>\n",
       "    <tr>\n",
       "      <th>4</th>\n",
       "      <td>1.24</td>\n",
       "      <td>0.50</td>\n",
       "      <td>5.1</td>\n",
       "      <td>96.7251</td>\n",
       "    </tr>\n",
       "    <tr>\n",
       "      <th>...</th>\n",
       "      <td>...</td>\n",
       "      <td>...</td>\n",
       "      <td>...</td>\n",
       "      <td>...</td>\n",
       "    </tr>\n",
       "    <tr>\n",
       "      <th>224</th>\n",
       "      <td>-1.18</td>\n",
       "      <td>-0.64</td>\n",
       "      <td>3.8</td>\n",
       "      <td>103.3081</td>\n",
       "    </tr>\n",
       "    <tr>\n",
       "      <th>225</th>\n",
       "      <td>-0.80</td>\n",
       "      <td>-0.27</td>\n",
       "      <td>3.9</td>\n",
       "      <td>102.5781</td>\n",
       "    </tr>\n",
       "    <tr>\n",
       "      <th>226</th>\n",
       "      <td>-1.02</td>\n",
       "      <td>-0.38</td>\n",
       "      <td>3.7</td>\n",
       "      <td>102.8868</td>\n",
       "    </tr>\n",
       "    <tr>\n",
       "      <th>227</th>\n",
       "      <td>-1.42</td>\n",
       "      <td>-0.44</td>\n",
       "      <td>3.8</td>\n",
       "      <td>102.6309</td>\n",
       "    </tr>\n",
       "    <tr>\n",
       "      <th>228</th>\n",
       "      <td>-1.39</td>\n",
       "      <td>-0.26</td>\n",
       "      <td>3.7</td>\n",
       "      <td>101.4830</td>\n",
       "    </tr>\n",
       "  </tbody>\n",
       "</table>\n",
       "<p>229 rows × 4 columns</p>\n",
       "</div>"
      ],
      "text/plain": [
       "     10y_minus_3m  10y_minus_2y  UNRATE    INDPRO\n",
       "0            1.85          1.00     5.3   95.8785\n",
       "1            1.59          0.79     5.4   96.5709\n",
       "2            1.70          0.77     5.2   96.4345\n",
       "3            1.50          0.69     5.2   96.6347\n",
       "4            1.24          0.50     5.1   96.7251\n",
       "..            ...           ...     ...       ...\n",
       "224         -1.18         -0.64     3.8  103.3081\n",
       "225         -0.80         -0.27     3.9  102.5781\n",
       "226         -1.02         -0.38     3.7  102.8868\n",
       "227         -1.42         -0.44     3.8  102.6309\n",
       "228         -1.39         -0.26     3.7  101.4830\n",
       "\n",
       "[229 rows x 4 columns]"
      ]
     },
     "execution_count": 27,
     "metadata": {},
     "output_type": "execute_result"
    }
   ],
   "source": [
    "X"
   ]
  },
  {
   "cell_type": "code",
   "execution_count": 29,
   "id": "b8d80bfd",
   "metadata": {},
   "outputs": [
    {
     "data": {
      "application/vnd.microsoft.datawrangler.viewer.v0+json": {
       "columns": [
        {
         "name": "index",
         "rawType": "int64",
         "type": "integer"
        },
        {
         "name": "observation_date",
         "rawType": "datetime64[ns]",
         "type": "datetime"
        },
        {
         "name": "DGS3MO",
         "rawType": "float64",
         "type": "float"
        },
        {
         "name": "DGS6MO",
         "rawType": "float64",
         "type": "float"
        },
        {
         "name": "DGS1",
         "rawType": "float64",
         "type": "float"
        },
        {
         "name": "DGS2",
         "rawType": "float64",
         "type": "float"
        },
        {
         "name": "DGS3",
         "rawType": "float64",
         "type": "float"
        },
        {
         "name": "DGS5",
         "rawType": "float64",
         "type": "float"
        },
        {
         "name": "DGS7",
         "rawType": "float64",
         "type": "float"
        },
        {
         "name": "DGS10",
         "rawType": "float64",
         "type": "float"
        },
        {
         "name": "DGS20",
         "rawType": "float64",
         "type": "float"
        },
        {
         "name": "DGS30",
         "rawType": "float64",
         "type": "float"
        },
        {
         "name": "USREC",
         "rawType": "int64",
         "type": "integer"
        },
        {
         "name": "UNRATE",
         "rawType": "float64",
         "type": "float"
        },
        {
         "name": "INDPRO",
         "rawType": "float64",
         "type": "float"
        },
        {
         "name": "10y_minus_3m",
         "rawType": "float64",
         "type": "float"
        },
        {
         "name": "10y_minus_2y",
         "rawType": "float64",
         "type": "float"
        },
        {
         "name": "recession_next_year",
         "rawType": "float64",
         "type": "float"
        }
       ],
       "conversionMethod": "pd.DataFrame",
       "ref": "5b687d27-6ee8-4336-ba85-ed9a6e388510",
       "rows": [
        [
         "24",
         "2007-01-01 00:00:00",
         "5.11",
         "5.15",
         "5.06",
         "4.88",
         "4.79",
         "4.75",
         "4.75",
         "4.76",
         "4.95",
         "4.85",
         "0",
         "4.6",
         "99.7546",
         "-0.35000000000000053",
         "-0.1200000000000001",
         "1.0"
        ],
        [
         "26",
         "2007-03-01 00:00:00",
         "5.08",
         "5.1",
         "4.92",
         "4.57",
         "4.51",
         "4.48",
         "4.5",
         "4.56",
         "4.81",
         "4.72",
         "0",
         "4.4",
         "100.8952",
         "-0.5200000000000005",
         "-0.010000000000000675",
         "1.0"
        ],
        [
         "27",
         "2007-04-01 00:00:00",
         "5.01",
         "5.07",
         "4.93",
         "4.67",
         "4.6",
         "4.59",
         "4.62",
         "4.69",
         "4.95",
         "4.87",
         "0",
         "4.5",
         "101.5723",
         "-0.3199999999999994",
         "0.020000000000000462",
         "1.0"
        ],
        [
         "28",
         "2007-05-01 00:00:00",
         "4.87",
         "4.98",
         "4.91",
         "4.77",
         "4.69",
         "4.67",
         "4.69",
         "4.75",
         "4.98",
         "4.9",
         "0",
         "4.4",
         "101.6269",
         "-0.1200000000000001",
         "-0.019999999999999574",
         "1.0"
        ],
        [
         "29",
         "2007-06-01 00:00:00",
         "4.74",
         "4.95",
         "4.96",
         "4.98",
         "5.0",
         "5.03",
         "5.05",
         "5.1",
         "5.29",
         "5.2",
         "0",
         "4.6",
         "101.6547",
         "0.35999999999999943",
         "0.11999999999999922",
         "1.0"
        ],
        [
         "30",
         "2007-07-01 00:00:00",
         "4.96",
         "5.04",
         "4.96",
         "4.82",
         "4.82",
         "4.88",
         "4.93",
         "5.0",
         "5.19",
         "5.11",
         "0",
         "4.7",
         "101.4953",
         "0.040000000000000036",
         "0.17999999999999972",
         "1.0"
        ],
        [
         "31",
         "2007-08-01 00:00:00",
         "4.32",
         "4.55",
         "4.47",
         "4.31",
         "4.34",
         "4.43",
         "4.53",
         "4.67",
         "5.0",
         "4.93",
         "0",
         "4.6",
         "101.6943",
         "0.34999999999999964",
         "0.3600000000000003",
         "1.0"
        ],
        [
         "32",
         "2007-09-01 00:00:00",
         "3.99",
         "4.2",
         "4.14",
         "4.01",
         "4.06",
         "4.2",
         "4.33",
         "4.52",
         "4.84",
         "4.79",
         "0",
         "4.7",
         "101.9428",
         "0.5299999999999994",
         "0.5099999999999998",
         "1.0"
        ],
        [
         "33",
         "2007-10-01 00:00:00",
         "4.0",
         "4.16",
         "4.1",
         "3.97",
         "4.01",
         "4.2",
         "4.33",
         "4.53",
         "4.83",
         "4.77",
         "0",
         "4.7",
         "101.6446",
         "0.5300000000000002",
         "0.56",
         "1.0"
        ],
        [
         "34",
         "2007-11-01 00:00:00",
         "3.35",
         "3.58",
         "3.5",
         "3.34",
         "3.35",
         "3.67",
         "3.87",
         "4.15",
         "4.56",
         "4.52",
         "0",
         "4.7",
         "102.2167",
         "0.8000000000000003",
         "0.8100000000000005",
         "1.0"
        ],
        [
         "35",
         "2007-12-01 00:00:00",
         "3.07",
         "3.34",
         "3.26",
         "3.12",
         "3.13",
         "3.49",
         "3.74",
         "4.1",
         "4.57",
         "4.53",
         "0",
         "5.0",
         "102.2764",
         "1.0299999999999998",
         "0.9799999999999995",
         "1.0"
        ],
        [
         "36",
         "2008-01-01 00:00:00",
         "2.82",
         "2.84",
         "2.71",
         "2.48",
         "2.51",
         "2.98",
         "3.31",
         "3.74",
         "4.35",
         "4.33",
         "1",
         "5.0",
         "102.1493",
         "0.9200000000000004",
         "1.2600000000000002",
         "1.0"
        ],
        [
         "37",
         "2008-02-01 00:00:00",
         "2.17",
         "2.1",
         "2.05",
         "1.97",
         "2.19",
         "2.78",
         "3.21",
         "3.74",
         "4.49",
         "4.52",
         "1",
         "4.9",
         "101.7756",
         "1.5700000000000003",
         "1.7700000000000002",
         "1.0"
        ],
        [
         "38",
         "2008-03-01 00:00:00",
         "1.28",
         "1.51",
         "1.54",
         "1.62",
         "1.8",
         "2.48",
         "2.93",
         "3.51",
         "4.36",
         "4.39",
         "1",
         "5.1",
         "101.4508",
         "2.2299999999999995",
         "1.8899999999999997",
         "1.0"
        ],
        [
         "39",
         "2008-04-01 00:00:00",
         "1.31",
         "1.58",
         "1.74",
         "2.05",
         "2.23",
         "2.84",
         "3.19",
         "3.68",
         "4.44",
         "4.44",
         "1",
         "5.0",
         "100.7554",
         "2.37",
         "1.6300000000000003",
         "1.0"
        ],
        [
         "40",
         "2008-05-01 00:00:00",
         "1.76",
         "1.86",
         "2.06",
         "2.45",
         "2.69",
         "3.15",
         "3.46",
         "3.88",
         "4.6",
         "4.6",
         "1",
         "5.4",
         "100.1336",
         "2.12",
         "1.4299999999999997",
         "1.0"
        ],
        [
         "41",
         "2008-06-01 00:00:00",
         "1.89",
         "2.19",
         "2.42",
         "2.77",
         "3.08",
         "3.49",
         "3.73",
         "4.1",
         "4.74",
         "4.69",
         "1",
         "5.6",
         "99.8728",
         "2.21",
         "1.3299999999999996",
         "1.0"
        ],
        [
         "125",
         "2015-06-01 00:00:00",
         "0.02",
         "0.09",
         "0.28",
         "0.69",
         "1.07",
         "1.68",
         "2.1",
         "2.36",
         "2.85",
         "3.11",
         "0",
         "5.3",
         "100.4588",
         "2.34",
         "1.67",
         "0.0"
        ],
        [
         "126",
         "2015-07-01 00:00:00",
         "0.03",
         "0.12",
         "0.3",
         "0.67",
         "1.03",
         "1.63",
         "2.04",
         "2.32",
         "2.77",
         "3.07",
         "0",
         "5.2",
         "101.0893",
         "2.29",
         "1.65",
         "0.0"
        ],
        [
         "170",
         "2019-03-01 00:00:00",
         "2.45",
         "2.51",
         "2.49",
         "2.41",
         "2.37",
         "2.37",
         "2.47",
         "2.57",
         "2.8",
         "2.98",
         "0",
         "3.8",
         "102.8361",
         "0.11999999999999966",
         "0.1599999999999997",
         "1.0"
        ],
        [
         "171",
         "2019-04-01 00:00:00",
         "2.43",
         "2.46",
         "2.42",
         "2.34",
         "2.31",
         "2.33",
         "2.43",
         "2.53",
         "2.76",
         "2.94",
         "0",
         "3.7",
         "102.2748",
         "0.09999999999999964",
         "0.18999999999999995",
         "1.0"
        ]
       ],
       "shape": {
        "columns": 17,
        "rows": 21
       }
      },
      "text/html": [
       "<div>\n",
       "<style scoped>\n",
       "    .dataframe tbody tr th:only-of-type {\n",
       "        vertical-align: middle;\n",
       "    }\n",
       "\n",
       "    .dataframe tbody tr th {\n",
       "        vertical-align: top;\n",
       "    }\n",
       "\n",
       "    .dataframe thead th {\n",
       "        text-align: right;\n",
       "    }\n",
       "</style>\n",
       "<table border=\"1\" class=\"dataframe\">\n",
       "  <thead>\n",
       "    <tr style=\"text-align: right;\">\n",
       "      <th></th>\n",
       "      <th>observation_date</th>\n",
       "      <th>DGS3MO</th>\n",
       "      <th>DGS6MO</th>\n",
       "      <th>DGS1</th>\n",
       "      <th>DGS2</th>\n",
       "      <th>DGS3</th>\n",
       "      <th>DGS5</th>\n",
       "      <th>DGS7</th>\n",
       "      <th>DGS10</th>\n",
       "      <th>DGS20</th>\n",
       "      <th>DGS30</th>\n",
       "      <th>USREC</th>\n",
       "      <th>UNRATE</th>\n",
       "      <th>INDPRO</th>\n",
       "      <th>10y_minus_3m</th>\n",
       "      <th>10y_minus_2y</th>\n",
       "      <th>recession_next_year</th>\n",
       "    </tr>\n",
       "  </thead>\n",
       "  <tbody>\n",
       "    <tr>\n",
       "      <th>24</th>\n",
       "      <td>2007-01-01</td>\n",
       "      <td>5.11</td>\n",
       "      <td>5.15</td>\n",
       "      <td>5.06</td>\n",
       "      <td>4.88</td>\n",
       "      <td>4.79</td>\n",
       "      <td>4.75</td>\n",
       "      <td>4.75</td>\n",
       "      <td>4.76</td>\n",
       "      <td>4.95</td>\n",
       "      <td>4.85</td>\n",
       "      <td>0</td>\n",
       "      <td>4.6</td>\n",
       "      <td>99.7546</td>\n",
       "      <td>-0.35</td>\n",
       "      <td>-0.12</td>\n",
       "      <td>1.0</td>\n",
       "    </tr>\n",
       "    <tr>\n",
       "      <th>26</th>\n",
       "      <td>2007-03-01</td>\n",
       "      <td>5.08</td>\n",
       "      <td>5.10</td>\n",
       "      <td>4.92</td>\n",
       "      <td>4.57</td>\n",
       "      <td>4.51</td>\n",
       "      <td>4.48</td>\n",
       "      <td>4.50</td>\n",
       "      <td>4.56</td>\n",
       "      <td>4.81</td>\n",
       "      <td>4.72</td>\n",
       "      <td>0</td>\n",
       "      <td>4.4</td>\n",
       "      <td>100.8952</td>\n",
       "      <td>-0.52</td>\n",
       "      <td>-0.01</td>\n",
       "      <td>1.0</td>\n",
       "    </tr>\n",
       "    <tr>\n",
       "      <th>27</th>\n",
       "      <td>2007-04-01</td>\n",
       "      <td>5.01</td>\n",
       "      <td>5.07</td>\n",
       "      <td>4.93</td>\n",
       "      <td>4.67</td>\n",
       "      <td>4.60</td>\n",
       "      <td>4.59</td>\n",
       "      <td>4.62</td>\n",
       "      <td>4.69</td>\n",
       "      <td>4.95</td>\n",
       "      <td>4.87</td>\n",
       "      <td>0</td>\n",
       "      <td>4.5</td>\n",
       "      <td>101.5723</td>\n",
       "      <td>-0.32</td>\n",
       "      <td>0.02</td>\n",
       "      <td>1.0</td>\n",
       "    </tr>\n",
       "    <tr>\n",
       "      <th>28</th>\n",
       "      <td>2007-05-01</td>\n",
       "      <td>4.87</td>\n",
       "      <td>4.98</td>\n",
       "      <td>4.91</td>\n",
       "      <td>4.77</td>\n",
       "      <td>4.69</td>\n",
       "      <td>4.67</td>\n",
       "      <td>4.69</td>\n",
       "      <td>4.75</td>\n",
       "      <td>4.98</td>\n",
       "      <td>4.90</td>\n",
       "      <td>0</td>\n",
       "      <td>4.4</td>\n",
       "      <td>101.6269</td>\n",
       "      <td>-0.12</td>\n",
       "      <td>-0.02</td>\n",
       "      <td>1.0</td>\n",
       "    </tr>\n",
       "    <tr>\n",
       "      <th>29</th>\n",
       "      <td>2007-06-01</td>\n",
       "      <td>4.74</td>\n",
       "      <td>4.95</td>\n",
       "      <td>4.96</td>\n",
       "      <td>4.98</td>\n",
       "      <td>5.00</td>\n",
       "      <td>5.03</td>\n",
       "      <td>5.05</td>\n",
       "      <td>5.10</td>\n",
       "      <td>5.29</td>\n",
       "      <td>5.20</td>\n",
       "      <td>0</td>\n",
       "      <td>4.6</td>\n",
       "      <td>101.6547</td>\n",
       "      <td>0.36</td>\n",
       "      <td>0.12</td>\n",
       "      <td>1.0</td>\n",
       "    </tr>\n",
       "    <tr>\n",
       "      <th>30</th>\n",
       "      <td>2007-07-01</td>\n",
       "      <td>4.96</td>\n",
       "      <td>5.04</td>\n",
       "      <td>4.96</td>\n",
       "      <td>4.82</td>\n",
       "      <td>4.82</td>\n",
       "      <td>4.88</td>\n",
       "      <td>4.93</td>\n",
       "      <td>5.00</td>\n",
       "      <td>5.19</td>\n",
       "      <td>5.11</td>\n",
       "      <td>0</td>\n",
       "      <td>4.7</td>\n",
       "      <td>101.4953</td>\n",
       "      <td>0.04</td>\n",
       "      <td>0.18</td>\n",
       "      <td>1.0</td>\n",
       "    </tr>\n",
       "    <tr>\n",
       "      <th>31</th>\n",
       "      <td>2007-08-01</td>\n",
       "      <td>4.32</td>\n",
       "      <td>4.55</td>\n",
       "      <td>4.47</td>\n",
       "      <td>4.31</td>\n",
       "      <td>4.34</td>\n",
       "      <td>4.43</td>\n",
       "      <td>4.53</td>\n",
       "      <td>4.67</td>\n",
       "      <td>5.00</td>\n",
       "      <td>4.93</td>\n",
       "      <td>0</td>\n",
       "      <td>4.6</td>\n",
       "      <td>101.6943</td>\n",
       "      <td>0.35</td>\n",
       "      <td>0.36</td>\n",
       "      <td>1.0</td>\n",
       "    </tr>\n",
       "    <tr>\n",
       "      <th>32</th>\n",
       "      <td>2007-09-01</td>\n",
       "      <td>3.99</td>\n",
       "      <td>4.20</td>\n",
       "      <td>4.14</td>\n",
       "      <td>4.01</td>\n",
       "      <td>4.06</td>\n",
       "      <td>4.20</td>\n",
       "      <td>4.33</td>\n",
       "      <td>4.52</td>\n",
       "      <td>4.84</td>\n",
       "      <td>4.79</td>\n",
       "      <td>0</td>\n",
       "      <td>4.7</td>\n",
       "      <td>101.9428</td>\n",
       "      <td>0.53</td>\n",
       "      <td>0.51</td>\n",
       "      <td>1.0</td>\n",
       "    </tr>\n",
       "    <tr>\n",
       "      <th>33</th>\n",
       "      <td>2007-10-01</td>\n",
       "      <td>4.00</td>\n",
       "      <td>4.16</td>\n",
       "      <td>4.10</td>\n",
       "      <td>3.97</td>\n",
       "      <td>4.01</td>\n",
       "      <td>4.20</td>\n",
       "      <td>4.33</td>\n",
       "      <td>4.53</td>\n",
       "      <td>4.83</td>\n",
       "      <td>4.77</td>\n",
       "      <td>0</td>\n",
       "      <td>4.7</td>\n",
       "      <td>101.6446</td>\n",
       "      <td>0.53</td>\n",
       "      <td>0.56</td>\n",
       "      <td>1.0</td>\n",
       "    </tr>\n",
       "    <tr>\n",
       "      <th>34</th>\n",
       "      <td>2007-11-01</td>\n",
       "      <td>3.35</td>\n",
       "      <td>3.58</td>\n",
       "      <td>3.50</td>\n",
       "      <td>3.34</td>\n",
       "      <td>3.35</td>\n",
       "      <td>3.67</td>\n",
       "      <td>3.87</td>\n",
       "      <td>4.15</td>\n",
       "      <td>4.56</td>\n",
       "      <td>4.52</td>\n",
       "      <td>0</td>\n",
       "      <td>4.7</td>\n",
       "      <td>102.2167</td>\n",
       "      <td>0.80</td>\n",
       "      <td>0.81</td>\n",
       "      <td>1.0</td>\n",
       "    </tr>\n",
       "    <tr>\n",
       "      <th>35</th>\n",
       "      <td>2007-12-01</td>\n",
       "      <td>3.07</td>\n",
       "      <td>3.34</td>\n",
       "      <td>3.26</td>\n",
       "      <td>3.12</td>\n",
       "      <td>3.13</td>\n",
       "      <td>3.49</td>\n",
       "      <td>3.74</td>\n",
       "      <td>4.10</td>\n",
       "      <td>4.57</td>\n",
       "      <td>4.53</td>\n",
       "      <td>0</td>\n",
       "      <td>5.0</td>\n",
       "      <td>102.2764</td>\n",
       "      <td>1.03</td>\n",
       "      <td>0.98</td>\n",
       "      <td>1.0</td>\n",
       "    </tr>\n",
       "    <tr>\n",
       "      <th>36</th>\n",
       "      <td>2008-01-01</td>\n",
       "      <td>2.82</td>\n",
       "      <td>2.84</td>\n",
       "      <td>2.71</td>\n",
       "      <td>2.48</td>\n",
       "      <td>2.51</td>\n",
       "      <td>2.98</td>\n",
       "      <td>3.31</td>\n",
       "      <td>3.74</td>\n",
       "      <td>4.35</td>\n",
       "      <td>4.33</td>\n",
       "      <td>1</td>\n",
       "      <td>5.0</td>\n",
       "      <td>102.1493</td>\n",
       "      <td>0.92</td>\n",
       "      <td>1.26</td>\n",
       "      <td>1.0</td>\n",
       "    </tr>\n",
       "    <tr>\n",
       "      <th>37</th>\n",
       "      <td>2008-02-01</td>\n",
       "      <td>2.17</td>\n",
       "      <td>2.10</td>\n",
       "      <td>2.05</td>\n",
       "      <td>1.97</td>\n",
       "      <td>2.19</td>\n",
       "      <td>2.78</td>\n",
       "      <td>3.21</td>\n",
       "      <td>3.74</td>\n",
       "      <td>4.49</td>\n",
       "      <td>4.52</td>\n",
       "      <td>1</td>\n",
       "      <td>4.9</td>\n",
       "      <td>101.7756</td>\n",
       "      <td>1.57</td>\n",
       "      <td>1.77</td>\n",
       "      <td>1.0</td>\n",
       "    </tr>\n",
       "    <tr>\n",
       "      <th>38</th>\n",
       "      <td>2008-03-01</td>\n",
       "      <td>1.28</td>\n",
       "      <td>1.51</td>\n",
       "      <td>1.54</td>\n",
       "      <td>1.62</td>\n",
       "      <td>1.80</td>\n",
       "      <td>2.48</td>\n",
       "      <td>2.93</td>\n",
       "      <td>3.51</td>\n",
       "      <td>4.36</td>\n",
       "      <td>4.39</td>\n",
       "      <td>1</td>\n",
       "      <td>5.1</td>\n",
       "      <td>101.4508</td>\n",
       "      <td>2.23</td>\n",
       "      <td>1.89</td>\n",
       "      <td>1.0</td>\n",
       "    </tr>\n",
       "    <tr>\n",
       "      <th>39</th>\n",
       "      <td>2008-04-01</td>\n",
       "      <td>1.31</td>\n",
       "      <td>1.58</td>\n",
       "      <td>1.74</td>\n",
       "      <td>2.05</td>\n",
       "      <td>2.23</td>\n",
       "      <td>2.84</td>\n",
       "      <td>3.19</td>\n",
       "      <td>3.68</td>\n",
       "      <td>4.44</td>\n",
       "      <td>4.44</td>\n",
       "      <td>1</td>\n",
       "      <td>5.0</td>\n",
       "      <td>100.7554</td>\n",
       "      <td>2.37</td>\n",
       "      <td>1.63</td>\n",
       "      <td>1.0</td>\n",
       "    </tr>\n",
       "    <tr>\n",
       "      <th>40</th>\n",
       "      <td>2008-05-01</td>\n",
       "      <td>1.76</td>\n",
       "      <td>1.86</td>\n",
       "      <td>2.06</td>\n",
       "      <td>2.45</td>\n",
       "      <td>2.69</td>\n",
       "      <td>3.15</td>\n",
       "      <td>3.46</td>\n",
       "      <td>3.88</td>\n",
       "      <td>4.60</td>\n",
       "      <td>4.60</td>\n",
       "      <td>1</td>\n",
       "      <td>5.4</td>\n",
       "      <td>100.1336</td>\n",
       "      <td>2.12</td>\n",
       "      <td>1.43</td>\n",
       "      <td>1.0</td>\n",
       "    </tr>\n",
       "    <tr>\n",
       "      <th>41</th>\n",
       "      <td>2008-06-01</td>\n",
       "      <td>1.89</td>\n",
       "      <td>2.19</td>\n",
       "      <td>2.42</td>\n",
       "      <td>2.77</td>\n",
       "      <td>3.08</td>\n",
       "      <td>3.49</td>\n",
       "      <td>3.73</td>\n",
       "      <td>4.10</td>\n",
       "      <td>4.74</td>\n",
       "      <td>4.69</td>\n",
       "      <td>1</td>\n",
       "      <td>5.6</td>\n",
       "      <td>99.8728</td>\n",
       "      <td>2.21</td>\n",
       "      <td>1.33</td>\n",
       "      <td>1.0</td>\n",
       "    </tr>\n",
       "    <tr>\n",
       "      <th>125</th>\n",
       "      <td>2015-06-01</td>\n",
       "      <td>0.02</td>\n",
       "      <td>0.09</td>\n",
       "      <td>0.28</td>\n",
       "      <td>0.69</td>\n",
       "      <td>1.07</td>\n",
       "      <td>1.68</td>\n",
       "      <td>2.10</td>\n",
       "      <td>2.36</td>\n",
       "      <td>2.85</td>\n",
       "      <td>3.11</td>\n",
       "      <td>0</td>\n",
       "      <td>5.3</td>\n",
       "      <td>100.4588</td>\n",
       "      <td>2.34</td>\n",
       "      <td>1.67</td>\n",
       "      <td>0.0</td>\n",
       "    </tr>\n",
       "    <tr>\n",
       "      <th>126</th>\n",
       "      <td>2015-07-01</td>\n",
       "      <td>0.03</td>\n",
       "      <td>0.12</td>\n",
       "      <td>0.30</td>\n",
       "      <td>0.67</td>\n",
       "      <td>1.03</td>\n",
       "      <td>1.63</td>\n",
       "      <td>2.04</td>\n",
       "      <td>2.32</td>\n",
       "      <td>2.77</td>\n",
       "      <td>3.07</td>\n",
       "      <td>0</td>\n",
       "      <td>5.2</td>\n",
       "      <td>101.0893</td>\n",
       "      <td>2.29</td>\n",
       "      <td>1.65</td>\n",
       "      <td>0.0</td>\n",
       "    </tr>\n",
       "    <tr>\n",
       "      <th>170</th>\n",
       "      <td>2019-03-01</td>\n",
       "      <td>2.45</td>\n",
       "      <td>2.51</td>\n",
       "      <td>2.49</td>\n",
       "      <td>2.41</td>\n",
       "      <td>2.37</td>\n",
       "      <td>2.37</td>\n",
       "      <td>2.47</td>\n",
       "      <td>2.57</td>\n",
       "      <td>2.80</td>\n",
       "      <td>2.98</td>\n",
       "      <td>0</td>\n",
       "      <td>3.8</td>\n",
       "      <td>102.8361</td>\n",
       "      <td>0.12</td>\n",
       "      <td>0.16</td>\n",
       "      <td>1.0</td>\n",
       "    </tr>\n",
       "    <tr>\n",
       "      <th>171</th>\n",
       "      <td>2019-04-01</td>\n",
       "      <td>2.43</td>\n",
       "      <td>2.46</td>\n",
       "      <td>2.42</td>\n",
       "      <td>2.34</td>\n",
       "      <td>2.31</td>\n",
       "      <td>2.33</td>\n",
       "      <td>2.43</td>\n",
       "      <td>2.53</td>\n",
       "      <td>2.76</td>\n",
       "      <td>2.94</td>\n",
       "      <td>0</td>\n",
       "      <td>3.7</td>\n",
       "      <td>102.2748</td>\n",
       "      <td>0.10</td>\n",
       "      <td>0.19</td>\n",
       "      <td>1.0</td>\n",
       "    </tr>\n",
       "  </tbody>\n",
       "</table>\n",
       "</div>"
      ],
      "text/plain": [
       "    observation_date  DGS3MO  DGS6MO  DGS1  DGS2  DGS3  DGS5  DGS7  DGS10  \\\n",
       "24        2007-01-01    5.11    5.15  5.06  4.88  4.79  4.75  4.75   4.76   \n",
       "26        2007-03-01    5.08    5.10  4.92  4.57  4.51  4.48  4.50   4.56   \n",
       "27        2007-04-01    5.01    5.07  4.93  4.67  4.60  4.59  4.62   4.69   \n",
       "28        2007-05-01    4.87    4.98  4.91  4.77  4.69  4.67  4.69   4.75   \n",
       "29        2007-06-01    4.74    4.95  4.96  4.98  5.00  5.03  5.05   5.10   \n",
       "30        2007-07-01    4.96    5.04  4.96  4.82  4.82  4.88  4.93   5.00   \n",
       "31        2007-08-01    4.32    4.55  4.47  4.31  4.34  4.43  4.53   4.67   \n",
       "32        2007-09-01    3.99    4.20  4.14  4.01  4.06  4.20  4.33   4.52   \n",
       "33        2007-10-01    4.00    4.16  4.10  3.97  4.01  4.20  4.33   4.53   \n",
       "34        2007-11-01    3.35    3.58  3.50  3.34  3.35  3.67  3.87   4.15   \n",
       "35        2007-12-01    3.07    3.34  3.26  3.12  3.13  3.49  3.74   4.10   \n",
       "36        2008-01-01    2.82    2.84  2.71  2.48  2.51  2.98  3.31   3.74   \n",
       "37        2008-02-01    2.17    2.10  2.05  1.97  2.19  2.78  3.21   3.74   \n",
       "38        2008-03-01    1.28    1.51  1.54  1.62  1.80  2.48  2.93   3.51   \n",
       "39        2008-04-01    1.31    1.58  1.74  2.05  2.23  2.84  3.19   3.68   \n",
       "40        2008-05-01    1.76    1.86  2.06  2.45  2.69  3.15  3.46   3.88   \n",
       "41        2008-06-01    1.89    2.19  2.42  2.77  3.08  3.49  3.73   4.10   \n",
       "125       2015-06-01    0.02    0.09  0.28  0.69  1.07  1.68  2.10   2.36   \n",
       "126       2015-07-01    0.03    0.12  0.30  0.67  1.03  1.63  2.04   2.32   \n",
       "170       2019-03-01    2.45    2.51  2.49  2.41  2.37  2.37  2.47   2.57   \n",
       "171       2019-04-01    2.43    2.46  2.42  2.34  2.31  2.33  2.43   2.53   \n",
       "\n",
       "     DGS20  DGS30  USREC  UNRATE    INDPRO  10y_minus_3m  10y_minus_2y  \\\n",
       "24    4.95   4.85      0     4.6   99.7546         -0.35         -0.12   \n",
       "26    4.81   4.72      0     4.4  100.8952         -0.52         -0.01   \n",
       "27    4.95   4.87      0     4.5  101.5723         -0.32          0.02   \n",
       "28    4.98   4.90      0     4.4  101.6269         -0.12         -0.02   \n",
       "29    5.29   5.20      0     4.6  101.6547          0.36          0.12   \n",
       "30    5.19   5.11      0     4.7  101.4953          0.04          0.18   \n",
       "31    5.00   4.93      0     4.6  101.6943          0.35          0.36   \n",
       "32    4.84   4.79      0     4.7  101.9428          0.53          0.51   \n",
       "33    4.83   4.77      0     4.7  101.6446          0.53          0.56   \n",
       "34    4.56   4.52      0     4.7  102.2167          0.80          0.81   \n",
       "35    4.57   4.53      0     5.0  102.2764          1.03          0.98   \n",
       "36    4.35   4.33      1     5.0  102.1493          0.92          1.26   \n",
       "37    4.49   4.52      1     4.9  101.7756          1.57          1.77   \n",
       "38    4.36   4.39      1     5.1  101.4508          2.23          1.89   \n",
       "39    4.44   4.44      1     5.0  100.7554          2.37          1.63   \n",
       "40    4.60   4.60      1     5.4  100.1336          2.12          1.43   \n",
       "41    4.74   4.69      1     5.6   99.8728          2.21          1.33   \n",
       "125   2.85   3.11      0     5.3  100.4588          2.34          1.67   \n",
       "126   2.77   3.07      0     5.2  101.0893          2.29          1.65   \n",
       "170   2.80   2.98      0     3.8  102.8361          0.12          0.16   \n",
       "171   2.76   2.94      0     3.7  102.2748          0.10          0.19   \n",
       "\n",
       "     recession_next_year  \n",
       "24                   1.0  \n",
       "26                   1.0  \n",
       "27                   1.0  \n",
       "28                   1.0  \n",
       "29                   1.0  \n",
       "30                   1.0  \n",
       "31                   1.0  \n",
       "32                   1.0  \n",
       "33                   1.0  \n",
       "34                   1.0  \n",
       "35                   1.0  \n",
       "36                   1.0  \n",
       "37                   1.0  \n",
       "38                   1.0  \n",
       "39                   1.0  \n",
       "40                   1.0  \n",
       "41                   1.0  \n",
       "125                  0.0  \n",
       "126                  0.0  \n",
       "170                  1.0  \n",
       "171                  1.0  "
      ]
     },
     "execution_count": 29,
     "metadata": {},
     "output_type": "execute_result"
    }
   ],
   "source": [
    "y_pred = models['Random Forest'].predict(X)\n",
    "df.iloc[y_pred==1]"
   ]
  },
  {
   "cell_type": "code",
   "execution_count": null,
   "id": "2e3fa956",
   "metadata": {},
   "outputs": [],
   "source": []
  }
 ],
 "metadata": {
  "kernelspec": {
   "display_name": "base",
   "language": "python",
   "name": "python3"
  },
  "language_info": {
   "codemirror_mode": {
    "name": "ipython",
    "version": 3
   },
   "file_extension": ".py",
   "mimetype": "text/x-python",
   "name": "python",
   "nbconvert_exporter": "python",
   "pygments_lexer": "ipython3",
   "version": "3.12.7"
  }
 },
 "nbformat": 4,
 "nbformat_minor": 5
}
